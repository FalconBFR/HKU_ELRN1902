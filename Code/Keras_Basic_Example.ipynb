{
 "cells": [
  {
   "cell_type": "code",
   "execution_count": 1,
   "metadata": {},
   "outputs": [
    {
     "name": "stderr",
     "output_type": "stream",
     "text": [
      "Using TensorFlow backend.\n"
     ]
    }
   ],
   "source": [
    "import keras\n",
    "from keras import models"
   ]
  },
  {
   "cell_type": "code",
   "execution_count": 2,
   "metadata": {},
   "outputs": [],
   "source": [
    "model = models.Sequential()"
   ]
  },
  {
   "cell_type": "code",
   "execution_count": 3,
   "metadata": {},
   "outputs": [],
   "source": [
    "from keras.layers import Dense"
   ]
  },
  {
   "cell_type": "code",
   "execution_count": 4,
   "metadata": {},
   "outputs": [],
   "source": [
    "model.add(Dense(1,input_dim=1, activation = 'linear'))"
   ]
  },
  {
   "cell_type": "code",
   "execution_count": 5,
   "metadata": {},
   "outputs": [
    {
     "name": "stdout",
     "output_type": "stream",
     "text": [
      "_________________________________________________________________\n",
      "Layer (type)                 Output Shape              Param #   \n",
      "=================================================================\n",
      "dense_1 (Dense)              (None, 1)                 2         \n",
      "=================================================================\n",
      "Total params: 2\n",
      "Trainable params: 2\n",
      "Non-trainable params: 0\n",
      "_________________________________________________________________\n"
     ]
    }
   ],
   "source": [
    "model.summary()"
   ]
  },
  {
   "cell_type": "code",
   "execution_count": 6,
   "metadata": {},
   "outputs": [],
   "source": [
    "import numpy as np"
   ]
  },
  {
   "cell_type": "markdown",
   "metadata": {},
   "source": [
    "Assume we only know the following input and output \n",
    "x = -1 , y = -6\n",
    "x = -2 , y = -12\n",
    "x = -4 , y = -24\n",
    "x = -8  , y = -32\n",
    "x = -10 , y = -40\n",
    "x = 1 , y = 6\n",
    "x = 2 , y = 12\n",
    "x = 4 , y = 24\n",
    "x = 8  , y = 32\n",
    "x = 10 , y = 40\n"
   ]
  },
  {
   "cell_type": "code",
   "execution_count": 7,
   "metadata": {},
   "outputs": [],
   "source": [
    "x = np.array([[-1],[-2],[-4],[-8],[-10],[1],[2],[4],[8],[10]])"
   ]
  },
  {
   "cell_type": "code",
   "execution_count": 8,
   "metadata": {},
   "outputs": [],
   "source": [
    "y = np.array([[-6],[-12],[-24],[-48],[-60],[6],[12],[24],[48],[60]])"
   ]
  },
  {
   "cell_type": "code",
   "execution_count": 9,
   "metadata": {},
   "outputs": [],
   "source": [
    "sgd = keras.optimizers.SGD(lr=0.01, momentum=0.0, decay=0.001, nesterov=False)"
   ]
  },
  {
   "cell_type": "code",
   "execution_count": 10,
   "metadata": {},
   "outputs": [],
   "source": [
    "model.compile(loss='mse', optimizer= sgd ,metrics=['acc','mse'])"
   ]
  },
  {
   "cell_type": "code",
   "execution_count": 11,
   "metadata": {},
   "outputs": [
    {
     "name": "stdout",
     "output_type": "stream",
     "text": [
      "Epoch 1/100\n",
      " - 1s - loss: 1467.4153 - acc: 0.0000e+00 - mean_squared_error: 1467.4153\n",
      "Epoch 2/100\n",
      " - 0s - loss: 99.7622 - acc: 0.0000e+00 - mean_squared_error: 99.7622\n",
      "Epoch 3/100\n",
      " - 0s - loss: 6.8208 - acc: 0.2000 - mean_squared_error: 6.8208\n",
      "Epoch 4/100\n",
      " - 0s - loss: 0.4690 - acc: 0.6000 - mean_squared_error: 0.4690\n",
      "Epoch 5/100\n",
      " - 0s - loss: 0.0324 - acc: 1.0000 - mean_squared_error: 0.0324\n",
      "Epoch 6/100\n",
      " - 0s - loss: 0.0023 - acc: 1.0000 - mean_squared_error: 0.0023\n",
      "Epoch 7/100\n",
      " - 0s - loss: 1.5765e-04 - acc: 1.0000 - mean_squared_error: 1.5765e-04\n",
      "Epoch 8/100\n",
      " - 0s - loss: 1.1087e-05 - acc: 1.0000 - mean_squared_error: 1.1087e-05\n",
      "Epoch 9/100\n",
      " - 0s - loss: 7.8205e-07 - acc: 1.0000 - mean_squared_error: 7.8205e-07\n",
      "Epoch 10/100\n",
      " - 0s - loss: 5.5049e-08 - acc: 1.0000 - mean_squared_error: 5.5049e-08\n",
      "Epoch 11/100\n",
      " - 0s - loss: 4.1526e-09 - acc: 1.0000 - mean_squared_error: 4.1526e-09\n",
      "Epoch 12/100\n",
      " - 0s - loss: 3.2542e-10 - acc: 1.0000 - mean_squared_error: 3.2542e-10\n",
      "Epoch 13/100\n",
      " - 0s - loss: 6.7757e-12 - acc: 1.0000 - mean_squared_error: 6.7757e-12\n",
      "Epoch 14/100\n",
      " - 0s - loss: 0.0000e+00 - acc: 1.0000 - mean_squared_error: 0.0000e+00\n",
      "Epoch 15/100\n",
      " - 0s - loss: 0.0000e+00 - acc: 1.0000 - mean_squared_error: 0.0000e+00\n",
      "Epoch 16/100\n",
      " - 0s - loss: 0.0000e+00 - acc: 1.0000 - mean_squared_error: 0.0000e+00\n",
      "Epoch 17/100\n",
      " - 0s - loss: 0.0000e+00 - acc: 1.0000 - mean_squared_error: 0.0000e+00\n",
      "Epoch 18/100\n",
      " - 0s - loss: 0.0000e+00 - acc: 1.0000 - mean_squared_error: 0.0000e+00\n",
      "Epoch 19/100\n",
      " - 0s - loss: 0.0000e+00 - acc: 1.0000 - mean_squared_error: 0.0000e+00\n",
      "Epoch 20/100\n",
      " - 0s - loss: 0.0000e+00 - acc: 1.0000 - mean_squared_error: 0.0000e+00\n",
      "Epoch 21/100\n",
      " - 0s - loss: 0.0000e+00 - acc: 1.0000 - mean_squared_error: 0.0000e+00\n",
      "Epoch 22/100\n",
      " - 0s - loss: 0.0000e+00 - acc: 1.0000 - mean_squared_error: 0.0000e+00\n",
      "Epoch 23/100\n",
      " - 0s - loss: 0.0000e+00 - acc: 1.0000 - mean_squared_error: 0.0000e+00\n",
      "Epoch 24/100\n",
      " - 0s - loss: 0.0000e+00 - acc: 1.0000 - mean_squared_error: 0.0000e+00\n",
      "Epoch 25/100\n",
      " - 0s - loss: 0.0000e+00 - acc: 1.0000 - mean_squared_error: 0.0000e+00\n",
      "Epoch 26/100\n",
      " - 0s - loss: 0.0000e+00 - acc: 1.0000 - mean_squared_error: 0.0000e+00\n",
      "Epoch 27/100\n",
      " - 0s - loss: 0.0000e+00 - acc: 1.0000 - mean_squared_error: 0.0000e+00\n",
      "Epoch 28/100\n",
      " - 0s - loss: 0.0000e+00 - acc: 1.0000 - mean_squared_error: 0.0000e+00\n",
      "Epoch 29/100\n",
      " - 0s - loss: 0.0000e+00 - acc: 1.0000 - mean_squared_error: 0.0000e+00\n",
      "Epoch 30/100\n",
      " - 0s - loss: 0.0000e+00 - acc: 1.0000 - mean_squared_error: 0.0000e+00\n",
      "Epoch 31/100\n",
      " - 0s - loss: 0.0000e+00 - acc: 1.0000 - mean_squared_error: 0.0000e+00\n",
      "Epoch 32/100\n",
      " - 0s - loss: 0.0000e+00 - acc: 1.0000 - mean_squared_error: 0.0000e+00\n",
      "Epoch 33/100\n",
      " - 0s - loss: 0.0000e+00 - acc: 1.0000 - mean_squared_error: 0.0000e+00\n",
      "Epoch 34/100\n",
      " - 0s - loss: 0.0000e+00 - acc: 1.0000 - mean_squared_error: 0.0000e+00\n",
      "Epoch 35/100\n",
      " - 0s - loss: 0.0000e+00 - acc: 1.0000 - mean_squared_error: 0.0000e+00\n",
      "Epoch 36/100\n",
      " - 0s - loss: 0.0000e+00 - acc: 1.0000 - mean_squared_error: 0.0000e+00\n",
      "Epoch 37/100\n",
      " - 0s - loss: 0.0000e+00 - acc: 1.0000 - mean_squared_error: 0.0000e+00\n",
      "Epoch 38/100\n",
      " - 0s - loss: 0.0000e+00 - acc: 1.0000 - mean_squared_error: 0.0000e+00\n",
      "Epoch 39/100\n",
      " - 0s - loss: 0.0000e+00 - acc: 1.0000 - mean_squared_error: 0.0000e+00\n",
      "Epoch 40/100\n",
      " - 0s - loss: 0.0000e+00 - acc: 1.0000 - mean_squared_error: 0.0000e+00\n",
      "Epoch 41/100\n",
      " - 0s - loss: 0.0000e+00 - acc: 1.0000 - mean_squared_error: 0.0000e+00\n",
      "Epoch 42/100\n",
      " - 0s - loss: 0.0000e+00 - acc: 1.0000 - mean_squared_error: 0.0000e+00\n",
      "Epoch 43/100\n",
      " - 0s - loss: 0.0000e+00 - acc: 1.0000 - mean_squared_error: 0.0000e+00\n",
      "Epoch 44/100\n",
      " - 0s - loss: 0.0000e+00 - acc: 1.0000 - mean_squared_error: 0.0000e+00\n",
      "Epoch 45/100\n",
      " - 0s - loss: 0.0000e+00 - acc: 1.0000 - mean_squared_error: 0.0000e+00\n",
      "Epoch 46/100\n",
      " - 0s - loss: 0.0000e+00 - acc: 1.0000 - mean_squared_error: 0.0000e+00\n",
      "Epoch 47/100\n",
      " - 0s - loss: 0.0000e+00 - acc: 1.0000 - mean_squared_error: 0.0000e+00\n",
      "Epoch 48/100\n",
      " - 0s - loss: 0.0000e+00 - acc: 1.0000 - mean_squared_error: 0.0000e+00\n",
      "Epoch 49/100\n",
      " - 0s - loss: 0.0000e+00 - acc: 1.0000 - mean_squared_error: 0.0000e+00\n",
      "Epoch 50/100\n",
      " - 0s - loss: 0.0000e+00 - acc: 1.0000 - mean_squared_error: 0.0000e+00\n",
      "Epoch 51/100\n",
      " - 0s - loss: 0.0000e+00 - acc: 1.0000 - mean_squared_error: 0.0000e+00\n",
      "Epoch 52/100\n",
      " - 0s - loss: 0.0000e+00 - acc: 1.0000 - mean_squared_error: 0.0000e+00\n",
      "Epoch 53/100\n",
      " - 0s - loss: 0.0000e+00 - acc: 1.0000 - mean_squared_error: 0.0000e+00\n",
      "Epoch 54/100\n",
      " - 0s - loss: 0.0000e+00 - acc: 1.0000 - mean_squared_error: 0.0000e+00\n",
      "Epoch 55/100\n",
      " - 0s - loss: 0.0000e+00 - acc: 1.0000 - mean_squared_error: 0.0000e+00\n",
      "Epoch 56/100\n",
      " - 0s - loss: 0.0000e+00 - acc: 1.0000 - mean_squared_error: 0.0000e+00\n",
      "Epoch 57/100\n",
      " - 0s - loss: 0.0000e+00 - acc: 1.0000 - mean_squared_error: 0.0000e+00\n",
      "Epoch 58/100\n",
      " - 0s - loss: 0.0000e+00 - acc: 1.0000 - mean_squared_error: 0.0000e+00\n",
      "Epoch 59/100\n",
      " - 0s - loss: 0.0000e+00 - acc: 1.0000 - mean_squared_error: 0.0000e+00\n",
      "Epoch 60/100\n",
      " - 0s - loss: 0.0000e+00 - acc: 1.0000 - mean_squared_error: 0.0000e+00\n",
      "Epoch 61/100\n",
      " - 0s - loss: 0.0000e+00 - acc: 1.0000 - mean_squared_error: 0.0000e+00\n",
      "Epoch 62/100\n",
      " - 0s - loss: 0.0000e+00 - acc: 1.0000 - mean_squared_error: 0.0000e+00\n",
      "Epoch 63/100\n",
      " - 0s - loss: 0.0000e+00 - acc: 1.0000 - mean_squared_error: 0.0000e+00\n",
      "Epoch 64/100\n",
      " - 0s - loss: 0.0000e+00 - acc: 1.0000 - mean_squared_error: 0.0000e+00\n",
      "Epoch 65/100\n",
      " - 0s - loss: 0.0000e+00 - acc: 1.0000 - mean_squared_error: 0.0000e+00\n",
      "Epoch 66/100\n",
      " - 0s - loss: 0.0000e+00 - acc: 1.0000 - mean_squared_error: 0.0000e+00\n",
      "Epoch 67/100\n",
      " - 0s - loss: 0.0000e+00 - acc: 1.0000 - mean_squared_error: 0.0000e+00\n",
      "Epoch 68/100\n",
      " - 0s - loss: 0.0000e+00 - acc: 1.0000 - mean_squared_error: 0.0000e+00\n",
      "Epoch 69/100\n",
      " - 0s - loss: 0.0000e+00 - acc: 1.0000 - mean_squared_error: 0.0000e+00\n",
      "Epoch 70/100\n",
      " - 0s - loss: 0.0000e+00 - acc: 1.0000 - mean_squared_error: 0.0000e+00\n",
      "Epoch 71/100\n",
      " - 0s - loss: 0.0000e+00 - acc: 1.0000 - mean_squared_error: 0.0000e+00\n",
      "Epoch 72/100\n",
      " - 0s - loss: 0.0000e+00 - acc: 1.0000 - mean_squared_error: 0.0000e+00\n",
      "Epoch 73/100\n",
      " - 0s - loss: 0.0000e+00 - acc: 1.0000 - mean_squared_error: 0.0000e+00\n",
      "Epoch 74/100\n",
      " - 0s - loss: 0.0000e+00 - acc: 1.0000 - mean_squared_error: 0.0000e+00\n",
      "Epoch 75/100\n",
      " - 0s - loss: 0.0000e+00 - acc: 1.0000 - mean_squared_error: 0.0000e+00\n",
      "Epoch 76/100\n",
      " - 0s - loss: 0.0000e+00 - acc: 1.0000 - mean_squared_error: 0.0000e+00\n",
      "Epoch 77/100\n",
      " - 0s - loss: 0.0000e+00 - acc: 1.0000 - mean_squared_error: 0.0000e+00\n",
      "Epoch 78/100\n",
      " - 0s - loss: 0.0000e+00 - acc: 1.0000 - mean_squared_error: 0.0000e+00\n",
      "Epoch 79/100\n",
      " - 0s - loss: 0.0000e+00 - acc: 1.0000 - mean_squared_error: 0.0000e+00\n",
      "Epoch 80/100\n",
      " - 0s - loss: 0.0000e+00 - acc: 1.0000 - mean_squared_error: 0.0000e+00\n",
      "Epoch 81/100\n",
      " - 0s - loss: 0.0000e+00 - acc: 1.0000 - mean_squared_error: 0.0000e+00\n",
      "Epoch 82/100\n",
      " - 0s - loss: 0.0000e+00 - acc: 1.0000 - mean_squared_error: 0.0000e+00\n",
      "Epoch 83/100\n",
      " - 0s - loss: 0.0000e+00 - acc: 1.0000 - mean_squared_error: 0.0000e+00\n",
      "Epoch 84/100\n",
      " - 0s - loss: 0.0000e+00 - acc: 1.0000 - mean_squared_error: 0.0000e+00\n",
      "Epoch 85/100\n",
      " - 0s - loss: 0.0000e+00 - acc: 1.0000 - mean_squared_error: 0.0000e+00\n",
      "Epoch 86/100\n",
      " - 0s - loss: 0.0000e+00 - acc: 1.0000 - mean_squared_error: 0.0000e+00\n",
      "Epoch 87/100\n",
      " - 0s - loss: 0.0000e+00 - acc: 1.0000 - mean_squared_error: 0.0000e+00\n",
      "Epoch 88/100\n",
      " - 0s - loss: 0.0000e+00 - acc: 1.0000 - mean_squared_error: 0.0000e+00\n",
      "Epoch 89/100\n",
      " - 0s - loss: 0.0000e+00 - acc: 1.0000 - mean_squared_error: 0.0000e+00\n",
      "Epoch 90/100\n",
      " - 0s - loss: 0.0000e+00 - acc: 1.0000 - mean_squared_error: 0.0000e+00\n",
      "Epoch 91/100\n",
      " - 0s - loss: 0.0000e+00 - acc: 1.0000 - mean_squared_error: 0.0000e+00\n",
      "Epoch 92/100\n",
      " - 0s - loss: 0.0000e+00 - acc: 1.0000 - mean_squared_error: 0.0000e+00\n",
      "Epoch 93/100\n",
      " - 0s - loss: 0.0000e+00 - acc: 1.0000 - mean_squared_error: 0.0000e+00\n",
      "Epoch 94/100\n",
      " - 0s - loss: 0.0000e+00 - acc: 1.0000 - mean_squared_error: 0.0000e+00\n",
      "Epoch 95/100\n",
      " - 0s - loss: 0.0000e+00 - acc: 1.0000 - mean_squared_error: 0.0000e+00\n",
      "Epoch 96/100\n",
      " - 0s - loss: 0.0000e+00 - acc: 1.0000 - mean_squared_error: 0.0000e+00\n",
      "Epoch 97/100\n",
      " - 0s - loss: 0.0000e+00 - acc: 1.0000 - mean_squared_error: 0.0000e+00\n"
     ]
    },
    {
     "name": "stdout",
     "output_type": "stream",
     "text": [
      "Epoch 98/100\n",
      " - 0s - loss: 0.0000e+00 - acc: 1.0000 - mean_squared_error: 0.0000e+00\n",
      "Epoch 99/100\n",
      " - 0s - loss: 0.0000e+00 - acc: 1.0000 - mean_squared_error: 0.0000e+00\n",
      "Epoch 100/100\n",
      " - 0s - loss: 0.0000e+00 - acc: 1.0000 - mean_squared_error: 0.0000e+00\n"
     ]
    }
   ],
   "source": [
    "history = model.fit(x, y , epochs=100 , verbose=2)"
   ]
  },
  {
   "cell_type": "code",
   "execution_count": 12,
   "metadata": {},
   "outputs": [
    {
     "name": "stdout",
     "output_type": "stream",
     "text": [
      "[[ 6.]]\n",
      "[  1.92008347e-08]\n"
     ]
    }
   ],
   "source": [
    "print(model.layers[0].get_weights()[0]) # weights \n",
    "print(model.layers[0].get_weights()[1]) # bias"
   ]
  },
  {
   "cell_type": "code",
   "execution_count": null,
   "metadata": {},
   "outputs": [],
   "source": []
  }
 ],
 "metadata": {
  "kernelspec": {
   "display_name": "Python 3",
   "language": "python",
   "name": "python3"
  },
  "language_info": {
   "codemirror_mode": {
    "name": "ipython",
    "version": 3
   },
   "file_extension": ".py",
   "mimetype": "text/x-python",
   "name": "python",
   "nbconvert_exporter": "python",
   "pygments_lexer": "ipython3",
   "version": "3.6.8"
  }
 },
 "nbformat": 4,
 "nbformat_minor": 2
}
