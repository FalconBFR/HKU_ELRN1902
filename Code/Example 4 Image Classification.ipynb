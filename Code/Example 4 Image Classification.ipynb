{
 "cells": [
  {
   "cell_type": "code",
   "execution_count": 1,
   "metadata": {},
   "outputs": [],
   "source": [
    "from IPython.display import Image\n",
    "from IPython.core.display import HTML"
   ]
  },
  {
   "cell_type": "code",
   "execution_count": 2,
   "metadata": {},
   "outputs": [],
   "source": [
    "import matplotlib\n",
    "matplotlib.use(\"Agg\")"
   ]
  },
  {
   "cell_type": "code",
   "execution_count": 3,
   "metadata": {},
   "outputs": [
    {
     "name": "stderr",
     "output_type": "stream",
     "text": [
      "Using TensorFlow backend.\n"
     ]
    }
   ],
   "source": [
    "from keras.preprocessing.image import ImageDataGenerator\n",
    "from keras.optimizers import Adam\n",
    "from sklearn.model_selection import train_test_split\n",
    "from keras.preprocessing.image import img_to_array\n",
    "from keras.utils import to_categorical\n",
    "#from pyimagesearch.lenet import LeNet\n",
    "from imutils import paths\n",
    "import matplotlib.pyplot as plt\n",
    "import numpy as np\n",
    "import argparse\n",
    "import random\n",
    "import cv2\n",
    "import os"
   ]
  },
  {
   "cell_type": "code",
   "execution_count": 4,
   "metadata": {},
   "outputs": [],
   "source": [
    "dataset = \"images\"\n",
    "modelname = \"santa_pepe_binary_crossentropy_dropout\"\n",
    "plot = \"plot_binary_crossentropy_dropout.png\""
   ]
  },
  {
   "cell_type": "code",
   "execution_count": 5,
   "metadata": {},
   "outputs": [],
   "source": [
    "EPOCHS = 50\n",
    "INIT_LR = 1e-3\n",
    "BS = 32"
   ]
  },
  {
   "cell_type": "code",
   "execution_count": 6,
   "metadata": {},
   "outputs": [
    {
     "name": "stdout",
     "output_type": "stream",
     "text": [
      "not_santa\n"
     ]
    }
   ],
   "source": [
    "data = []\n",
    "labels = []\n",
    "labels_name = [\"not_santa\",\"pepe\",\"santa\"]\n",
    "print(labels_name[0])"
   ]
  },
  {
   "cell_type": "code",
   "execution_count": 7,
   "metadata": {},
   "outputs": [
    {
     "name": "stdout",
     "output_type": "stream",
     "text": [
      "['images\\\\not_santa\\\\00000028.jpg', 'images\\\\not_santa\\\\00000456.jpg', 'images\\\\santa\\\\00000065.jpg', 'images\\\\santa\\\\00000237.jpg', 'images\\\\santa\\\\00000400.jpg', 'images\\\\santa\\\\00000389.jpg', 'images\\\\not_santa\\\\00000345.jpg', 'images\\\\not_santa\\\\00000241.jpg', 'images\\\\not_santa\\\\00000221.jpg', 'images\\\\santa\\\\00000130.jpg', 'images\\\\santa\\\\00000116.jpg', 'images\\\\santa\\\\00000307.jpg', 'images\\\\not_santa\\\\00000354.jpg', 'images\\\\not_santa\\\\00000287.jpg', 'images\\\\santa\\\\00000162.jpg', 'images\\\\santa\\\\00000267.jpg', 'images\\\\not_santa\\\\00000350.jpg', 'images\\\\not_santa\\\\00000049.jpg', 'images\\\\santa\\\\00000407.jpg', 'images\\\\santa\\\\00000120.jpg', 'images\\\\not_santa\\\\00000036.jpg', 'images\\\\santa\\\\00000054.jpg', 'images\\\\santa\\\\00000072.jpg', 'images\\\\santa\\\\00000397.jpg', 'images\\\\santa\\\\00000051.jpg', 'images\\\\not_santa\\\\00000110.jpg', 'images\\\\santa\\\\00000258.jpg', 'images\\\\santa\\\\00000100.jpg', 'images\\\\santa\\\\00000041.jpg', 'images\\\\not_santa\\\\00000105.jpg', 'images\\\\santa\\\\00000081.jpg', 'images\\\\not_santa\\\\00000227.jpg', 'images\\\\not_santa\\\\00000406.jpg', 'images\\\\not_santa\\\\00000038.jpg', 'images\\\\santa\\\\00000017.jpg', 'images\\\\santa\\\\00000193.jpg', 'images\\\\not_santa\\\\00000249.jpg', 'images\\\\not_santa\\\\00000180.jpg', 'images\\\\not_santa\\\\00000444.jpg', 'images\\\\not_santa\\\\00000200.jpg', 'images\\\\santa\\\\00000368.jpg', 'images\\\\not_santa\\\\00000016.jpg', 'images\\\\not_santa\\\\00000423.jpg', 'images\\\\not_santa\\\\00000414.jpg', 'images\\\\not_santa\\\\00000372.jpg', 'images\\\\not_santa\\\\00000411.jpg', 'images\\\\santa\\\\00000451.jpg', 'images\\\\not_santa\\\\00000198.jpg', 'images\\\\not_santa\\\\00000053.jpg', 'images\\\\not_santa\\\\00000422.jpg', 'images\\\\not_santa\\\\00000084.jpg', 'images\\\\santa\\\\00000175.jpg', 'images\\\\santa\\\\00000358.jpg', 'images\\\\santa\\\\00000455.jpg', 'images\\\\santa\\\\00000348.jpg', 'images\\\\santa\\\\00000178.jpg', 'images\\\\not_santa\\\\00000229.jpg', 'images\\\\santa\\\\00000470.jpg', 'images\\\\not_santa\\\\00000358.jpg', 'images\\\\santa\\\\00000309.jpg', 'images\\\\santa\\\\00000445.jpg', 'images\\\\santa\\\\00000395.jpg', 'images\\\\santa\\\\00000159.jpg', 'images\\\\not_santa\\\\00000330.jpg', 'images\\\\santa\\\\00000365.jpg', 'images\\\\santa\\\\00000103.jpg', 'images\\\\not_santa\\\\00000184.jpg', 'images\\\\santa\\\\00000111.jpg', 'images\\\\santa\\\\00000154.jpg', 'images\\\\santa\\\\00000436.jpg', 'images\\\\not_santa\\\\00000092.jpg', 'images\\\\santa\\\\00000182.jpg', 'images\\\\not_santa\\\\00000290.jpg', 'images\\\\not_santa\\\\00000177.jpg', 'images\\\\not_santa\\\\00000024.jpg', 'images\\\\santa\\\\00000260.jpg', 'images\\\\santa\\\\00000242.jpg', 'images\\\\santa\\\\00000023.jpg', 'images\\\\santa\\\\00000265.jpg', 'images\\\\not_santa\\\\00000236.jpg', 'images\\\\not_santa\\\\00000361.jpg', 'images\\\\santa\\\\00000032.jpg', 'images\\\\not_santa\\\\00000033.jpg', 'images\\\\santa\\\\00000336.jpg', 'images\\\\santa\\\\00000038.jpg', 'images\\\\not_santa\\\\00000424.jpg', 'images\\\\santa\\\\00000476.jpg', 'images\\\\not_santa\\\\00000333.jpg', 'images\\\\not_santa\\\\00000428.jpg', 'images\\\\not_santa\\\\00000425.jpg', 'images\\\\not_santa\\\\00000334.jpg', 'images\\\\santa\\\\00000332.jpg', 'images\\\\not_santa\\\\00000085.jpg', 'images\\\\santa\\\\00000108.jpg', 'images\\\\santa\\\\00000215.jpg', 'images\\\\santa\\\\00000396.jpg', 'images\\\\santa\\\\00000284.jpg', 'images\\\\not_santa\\\\00000174.jpg', 'images\\\\not_santa\\\\00000380.jpg', 'images\\\\santa\\\\00000314.jpg', 'images\\\\santa\\\\00000171.jpg', 'images\\\\not_santa\\\\00000152.jpg', 'images\\\\not_santa\\\\00000304.jpg', 'images\\\\not_santa\\\\00000308.jpg', 'images\\\\not_santa\\\\00000325.jpg', 'images\\\\santa\\\\00000310.jpg', 'images\\\\santa\\\\00000016.jpg', 'images\\\\santa\\\\00000296.jpg', 'images\\\\santa\\\\00000312.jpg', 'images\\\\not_santa\\\\00000397.jpg', 'images\\\\santa\\\\00000148.jpg', 'images\\\\santa\\\\00000380.jpg', 'images\\\\not_santa\\\\00000247.jpg', 'images\\\\santa\\\\00000241.jpg', 'images\\\\not_santa\\\\00000232.jpg', 'images\\\\santa\\\\00000333.jpg', 'images\\\\santa\\\\00000322.jpg', 'images\\\\santa\\\\00000518.jpg', 'images\\\\santa\\\\00000432.jpg', 'images\\\\santa\\\\00000270.jpg', 'images\\\\santa\\\\00000127.jpg', 'images\\\\santa\\\\00000402.jpg', 'images\\\\santa\\\\00000061.jpg', 'images\\\\not_santa\\\\00000299.jpg', 'images\\\\not_santa\\\\00000193.jpg', 'images\\\\not_santa\\\\00000239.jpg', 'images\\\\not_santa\\\\00000326.jpg', 'images\\\\not_santa\\\\00000150.jpg', 'images\\\\not_santa\\\\00000320.jpg', 'images\\\\santa\\\\00000292.jpg', 'images\\\\santa\\\\00000126.jpg', 'images\\\\santa\\\\00000264.jpg', 'images\\\\not_santa\\\\00000129.jpg', 'images\\\\not_santa\\\\00000172.jpg', 'images\\\\santa\\\\00000021.jpg', 'images\\\\not_santa\\\\00000264.jpg', 'images\\\\santa\\\\00000246.jpg', 'images\\\\not_santa\\\\00000088.jpg', 'images\\\\pepe\\\\00000000.jpg', 'images\\\\santa\\\\00000497.jpg', 'images\\\\santa\\\\00000335.jpg', 'images\\\\not_santa\\\\00000026.jpg', 'images\\\\santa\\\\00000185.jpg', 'images\\\\not_santa\\\\00000458.jpg', 'images\\\\not_santa\\\\00000050.jpg', 'images\\\\santa\\\\00000427.jpg', 'images\\\\santa\\\\00000196.jpg', 'images\\\\not_santa\\\\00000202.jpg', 'images\\\\not_santa\\\\00000199.jpg', 'images\\\\not_santa\\\\00000148.jpg', 'images\\\\santa\\\\00000489.jpg', 'images\\\\santa\\\\00000172.jpg', 'images\\\\santa\\\\00000066.jpg', 'images\\\\not_santa\\\\00000455.jpg', 'images\\\\santa\\\\00000316.jpg', 'images\\\\santa\\\\00000062.jpg', 'images\\\\not_santa\\\\00000393.jpg', 'images\\\\santa\\\\00000271.jpg', 'images\\\\santa\\\\00000098.jpg', 'images\\\\not_santa\\\\00000201.jpg', 'images\\\\not_santa\\\\00000029.jpg', 'images\\\\santa\\\\00000008.jpg', 'images\\\\santa\\\\00000449.jpg', 'images\\\\not_santa\\\\00000061.jpg', 'images\\\\santa\\\\00000026.jpg', 'images\\\\not_santa\\\\00000366.jpg', 'images\\\\santa\\\\00000269.jpg', 'images\\\\santa\\\\00000429.jpg', 'images\\\\not_santa\\\\00000374.jpg', 'images\\\\santa\\\\00000510.jpg', 'images\\\\not_santa\\\\00000010.jpg', 'images\\\\santa\\\\00000179.jpg', 'images\\\\not_santa\\\\00000017.jpg', 'images\\\\santa\\\\00000410.jpg', 'images\\\\santa\\\\00000375.jpg', 'images\\\\not_santa\\\\00000365.jpg', 'images\\\\not_santa\\\\00000013.jpg', 'images\\\\not_santa\\\\00000138.jpg', 'images\\\\not_santa\\\\00000004.jpg', 'images\\\\not_santa\\\\00000272.jpg', 'images\\\\santa\\\\00000025.jpg', 'images\\\\not_santa\\\\00000064.jpg', 'images\\\\santa\\\\00000408.jpg', 'images\\\\santa\\\\00000426.jpg', 'images\\\\santa\\\\00000124.jpg', 'images\\\\not_santa\\\\00000360.jpg', 'images\\\\santa\\\\00000039.jpg', 'images\\\\not_santa\\\\00000434.jpg', 'images\\\\santa\\\\00000129.jpg', 'images\\\\santa\\\\00000442.jpg', 'images\\\\not_santa\\\\00000443.jpg', 'images\\\\not_santa\\\\00000066.jpg', 'images\\\\santa\\\\00000364.jpg', 'images\\\\santa\\\\00000434.jpg', 'images\\\\not_santa\\\\00000302.jpg', 'images\\\\not_santa\\\\00000034.jpg', 'images\\\\not_santa\\\\00000262.jpg', 'images\\\\not_santa\\\\00000457.jpg', 'images\\\\santa\\\\00000033.jpg', 'images\\\\not_santa\\\\00000256.jpg', 'images\\\\not_santa\\\\00000289.jpg', 'images\\\\not_santa\\\\00000144.jpg', 'images\\\\not_santa\\\\00000364.jpg', 'images\\\\santa\\\\00000010.jpg', 'images\\\\santa\\\\00000471.jpg', 'images\\\\santa\\\\00000189.jpg', 'images\\\\santa\\\\00000113.jpg', 'images\\\\not_santa\\\\00000431.jpg', 'images\\\\not_santa\\\\00000119.jpg', 'images\\\\not_santa\\\\00000042.jpg', 'images\\\\not_santa\\\\00000185.jpg', 'images\\\\santa\\\\00000417.jpg', 'images\\\\santa\\\\00000414.jpg', 'images\\\\not_santa\\\\00000173.jpg', 'images\\\\santa\\\\00000243.jpg', 'images\\\\not_santa\\\\00000384.jpg', 'images\\\\santa\\\\00000219.jpg', 'images\\\\santa\\\\00000223.jpg', 'images\\\\not_santa\\\\00000435.jpg', 'images\\\\santa\\\\00000183.jpg', 'images\\\\santa\\\\00000122.jpg', 'images\\\\not_santa\\\\00000392.jpg', 'images\\\\santa\\\\00000083.jpg', 'images\\\\not_santa\\\\00000056.jpg', 'images\\\\santa\\\\00000046.jpg', 'images\\\\santa\\\\00000457.jpg', 'images\\\\not_santa\\\\00000293.jpg', 'images\\\\not_santa\\\\00000188.jpg', 'images\\\\not_santa\\\\00000191.jpg', 'images\\\\santa\\\\00000078.jpg', 'images\\\\santa\\\\00000117.jpg', 'images\\\\not_santa\\\\00000311.jpg', 'images\\\\santa\\\\00000147.jpg', 'images\\\\santa\\\\00000071.jpg', 'images\\\\not_santa\\\\00000251.jpg', 'images\\\\not_santa\\\\00000192.jpg', 'images\\\\santa\\\\00000044.jpg', 'images\\\\santa\\\\00000140.jpg', 'images\\\\not_santa\\\\00000001.jpg', 'images\\\\not_santa\\\\00000277.jpg', 'images\\\\not_santa\\\\00000396.jpg', 'images\\\\not_santa\\\\00000147.jpg', 'images\\\\santa\\\\00000157.jpg', 'images\\\\santa\\\\00000415.jpg', 'images\\\\santa\\\\00000209.jpg', 'images\\\\not_santa\\\\00000005.jpg', 'images\\\\not_santa\\\\00000178.jpg', 'images\\\\not_santa\\\\00000336.jpg', 'images\\\\not_santa\\\\00000149.jpg', 'images\\\\not_santa\\\\00000398.jpg', 'images\\\\not_santa\\\\00000231.jpg', 'images\\\\not_santa\\\\00000313.jpg', 'images\\\\not_santa\\\\00000419.jpg', 'images\\\\not_santa\\\\00000213.jpg', 'images\\\\santa\\\\00000018.jpg', 'images\\\\not_santa\\\\00000031.jpg', 'images\\\\not_santa\\\\00000421.jpg', 'images\\\\not_santa\\\\00000369.jpg', 'images\\\\santa\\\\00000087.jpg', 'images\\\\santa\\\\00000012.jpg', 'images\\\\not_santa\\\\00000355.jpg', 'images\\\\santa\\\\00000217.jpg', 'images\\\\santa\\\\00000216.jpg', 'images\\\\not_santa\\\\00000078.jpg', 'images\\\\not_santa\\\\00000318.jpg', 'images\\\\santa\\\\00000075.jpg', 'images\\\\santa\\\\00000360.jpg', 'images\\\\santa\\\\00000095.jpg', 'images\\\\not_santa\\\\00000041.jpg', 'images\\\\santa\\\\00000328.jpg', 'images\\\\not_santa\\\\00000329.jpg', 'images\\\\not_santa\\\\00000139.jpg', 'images\\\\not_santa\\\\00000327.jpg', 'images\\\\santa\\\\00000305.jpg', 'images\\\\not_santa\\\\00000039.jpg', 'images\\\\santa\\\\00000386.jpg', 'images\\\\not_santa\\\\00000140.jpg', 'images\\\\santa\\\\00000119.jpg', 'images\\\\santa\\\\00000387.jpg', 'images\\\\santa\\\\00000352.jpg', 'images\\\\santa\\\\00000338.jpg', 'images\\\\not_santa\\\\00000126.jpg', 'images\\\\not_santa\\\\00000132.jpg', 'images\\\\santa\\\\00000234.jpg', 'images\\\\not_santa\\\\00000385.jpg', 'images\\\\santa\\\\00000001.jpg', 'images\\\\santa\\\\00000514.jpg', 'images\\\\santa\\\\00000320.jpg', 'images\\\\santa\\\\00000136.jpg', 'images\\\\not_santa\\\\00000258.jpg', 'images\\\\not_santa\\\\00000375.jpg', 'images\\\\not_santa\\\\00000162.jpg', 'images\\\\santa\\\\00000319.jpg', 'images\\\\santa\\\\00000164.jpg', 'images\\\\not_santa\\\\00000301.jpg', 'images\\\\not_santa\\\\00000068.jpg', 'images\\\\not_santa\\\\00000316.jpg', 'images\\\\santa\\\\00000135.jpg', 'images\\\\santa\\\\00000168.jpg', 'images\\\\santa\\\\00000173.jpg', 'images\\\\santa\\\\00000522.jpg', 'images\\\\not_santa\\\\00000237.jpg', 'images\\\\not_santa\\\\00000265.jpg', 'images\\\\santa\\\\00000003.jpg', 'images\\\\santa\\\\00000331.jpg', 'images\\\\santa\\\\00000362.jpg', 'images\\\\not_santa\\\\00000054.jpg', 'images\\\\santa\\\\00000151.jpg', 'images\\\\santa\\\\00000255.jpg', 'images\\\\not_santa\\\\00000124.jpg', 'images\\\\not_santa\\\\00000436.jpg', 'images\\\\santa\\\\00000235.jpg', 'images\\\\santa\\\\00000181.jpg', 'images\\\\santa\\\\00000469.jpg', 'images\\\\not_santa\\\\00000294.jpg', 'images\\\\not_santa\\\\00000212.jpg', 'images\\\\santa\\\\00000422.jpg', 'images\\\\not_santa\\\\00000037.jpg', 'images\\\\not_santa\\\\00000312.jpg', 'images\\\\santa\\\\00000213.jpg', 'images\\\\not_santa\\\\00000125.jpg', 'images\\\\not_santa\\\\00000023.jpg', 'images\\\\santa\\\\00000176.jpg', 'images\\\\santa\\\\00000036.jpg', 'images\\\\not_santa\\\\00000101.jpg', 'images\\\\not_santa\\\\00000115.jpg', 'images\\\\santa\\\\00000341.jpg', 'images\\\\not_santa\\\\00000120.jpg', 'images\\\\not_santa\\\\00000047.jpg', 'images\\\\not_santa\\\\00000171.jpg', 'images\\\\santa\\\\00000011.jpg', 'images\\\\not_santa\\\\00000324.jpg', 'images\\\\not_santa\\\\00000263.jpg', 'images\\\\not_santa\\\\00000145.jpg', 'images\\\\not_santa\\\\00000043.jpg', 'images\\\\not_santa\\\\00000086.jpg', 'images\\\\santa\\\\00000161.jpg', 'images\\\\santa\\\\00000205.jpg', 'images\\\\santa\\\\00000074.jpg', 'images\\\\not_santa\\\\00000449.jpg', 'images\\\\not_santa\\\\00000226.jpg', 'images\\\\santa\\\\00000418.jpg', 'images\\\\not_santa\\\\00000164.jpg', 'images\\\\not_santa\\\\00000335.jpg', 'images\\\\not_santa\\\\00000401.jpg', 'images\\\\santa\\\\00000420.jpg', 'images\\\\not_santa\\\\00000381.jpg', 'images\\\\santa\\\\00000256.jpg', 'images\\\\santa\\\\00000421.jpg', 'images\\\\not_santa\\\\00000155.jpg', 'images\\\\not_santa\\\\00000391.jpg', 'images\\\\not_santa\\\\00000280.jpg', 'images\\\\not_santa\\\\00000207.jpg', 'images\\\\not_santa\\\\00000154.jpg', 'images\\\\santa\\\\00000086.jpg', 'images\\\\not_santa\\\\00000315.jpg', 'images\\\\santa\\\\00000501.jpg', 'images\\\\santa\\\\00000232.jpg', 'images\\\\santa\\\\00000141.jpg', 'images\\\\not_santa\\\\00000386.jpg', 'images\\\\santa\\\\00000070.jpg', 'images\\\\not_santa\\\\00000430.jpg', 'images\\\\santa\\\\00000491.jpg', 'images\\\\santa\\\\00000060.jpg', 'images\\\\not_santa\\\\00000151.jpg', 'images\\\\not_santa\\\\00000356.jpg', 'images\\\\not_santa\\\\00000206.jpg', 'images\\\\santa\\\\00000393.jpg', 'images\\\\santa\\\\00000385.jpg', 'images\\\\santa\\\\00000048.jpg', 'images\\\\santa\\\\00000142.jpg', 'images\\\\not_santa\\\\00000259.jpg', 'images\\\\not_santa\\\\00000153.jpg', 'images\\\\santa\\\\00000439.jpg', 'images\\\\not_santa\\\\00000063.jpg', 'images\\\\not_santa\\\\00000339.jpg', 'images\\\\not_santa\\\\00000450.jpg', 'images\\\\santa\\\\00000245.jpg', 'images\\\\not_santa\\\\00000417.jpg', 'images\\\\not_santa\\\\00000340.jpg', 'images\\\\not_santa\\\\00000426.jpg', 'images\\\\santa\\\\00000225.jpg', 'images\\\\santa\\\\00000031.jpg', 'images\\\\santa\\\\00000166.jpg', 'images\\\\not_santa\\\\00000343.jpg', 'images\\\\santa\\\\00000045.jpg', 'images\\\\santa\\\\00000409.jpg', 'images\\\\not_santa\\\\00000368.jpg', 'images\\\\santa\\\\00000069.jpg', 'images\\\\not_santa\\\\00000275.jpg', 'images\\\\not_santa\\\\00000266.jpg', 'images\\\\santa\\\\00000277.jpg', 'images\\\\not_santa\\\\00000404.jpg', 'images\\\\santa\\\\00000192.jpg', 'images\\\\not_santa\\\\00000022.jpg', 'images\\\\not_santa\\\\00000130.jpg', 'images\\\\not_santa\\\\00000097.jpg', 'images\\\\not_santa\\\\00000295.jpg', 'images\\\\not_santa\\\\00000197.jpg', 'images\\\\not_santa\\\\00000454.jpg', 'images\\\\not_santa\\\\00000261.jpg', 'images\\\\not_santa\\\\00000310.jpg', 'images\\\\santa\\\\00000494.jpg', 'images\\\\not_santa\\\\00000160.jpg', 'images\\\\not_santa\\\\00000402.jpg', 'images\\\\santa\\\\00000411.jpg', 'images\\\\not_santa\\\\00000176.jpg', 'images\\\\santa\\\\00000345.jpg', 'images\\\\santa\\\\00000484.jpg', 'images\\\\santa\\\\00000261.jpg', 'images\\\\santa\\\\00000301.jpg', 'images\\\\santa\\\\00000208.jpg', 'images\\\\not_santa\\\\00000297.jpg', 'images\\\\pepe\\\\00000002.jpg', 'images\\\\santa\\\\00000093.jpg', 'images\\\\santa\\\\00000343.jpg', 'images\\\\not_santa\\\\00000014.jpg', 'images\\\\santa\\\\00000381.jpg', 'images\\\\santa\\\\00000369.jpg', 'images\\\\santa\\\\00000289.jpg', 'images\\\\santa\\\\00000378.jpg', 'images\\\\not_santa\\\\00000260.jpg', 'images\\\\not_santa\\\\00000328.jpg', 'images\\\\santa\\\\00000458.jpg', 'images\\\\santa\\\\00000040.jpg', 'images\\\\not_santa\\\\00000395.jpg', 'images\\\\not_santa\\\\00000035.jpg', 'images\\\\santa\\\\00000354.jpg', 'images\\\\santa\\\\00000153.jpg', 'images\\\\not_santa\\\\00000204.jpg', 'images\\\\not_santa\\\\00000098.jpg', 'images\\\\not_santa\\\\00000337.jpg', 'images\\\\santa\\\\00000299.jpg', 'images\\\\santa\\\\00000512.jpg', 'images\\\\not_santa\\\\00000116.jpg', 'images\\\\santa\\\\00000027.jpg', 'images\\\\santa\\\\00000221.jpg', 'images\\\\santa\\\\00000283.jpg', 'images\\\\not_santa\\\\00000179.jpg', 'images\\\\santa\\\\00000423.jpg', 'images\\\\not_santa\\\\00000418.jpg', 'images\\\\santa\\\\00000481.jpg', 'images\\\\not_santa\\\\00000113.jpg', 'images\\\\santa\\\\00000266.jpg', 'images\\\\not_santa\\\\00000439.jpg', 'images\\\\santa\\\\00000273.jpg', 'images\\\\not_santa\\\\00000446.jpg', 'images\\\\not_santa\\\\00000195.jpg', 'images\\\\santa\\\\00000188.jpg', 'images\\\\not_santa\\\\00000359.jpg', 'images\\\\not_santa\\\\00000403.jpg', 'images\\\\santa\\\\00000419.jpg', 'images\\\\not_santa\\\\00000136.jpg', 'images\\\\santa\\\\00000287.jpg', 'images\\\\santa\\\\00000167.jpg', 'images\\\\not_santa\\\\00000376.jpg', 'images\\\\santa\\\\00000007.jpg', 'images\\\\not_santa\\\\00000342.jpg', 'images\\\\santa\\\\00000276.jpg', 'images\\\\not_santa\\\\00000210.jpg', 'images\\\\not_santa\\\\00000400.jpg', 'images\\\\santa\\\\00000448.jpg', 'images\\\\not_santa\\\\00000377.jpg', 'images\\\\not_santa\\\\00000091.jpg', 'images\\\\not_santa\\\\00000012.jpg', 'images\\\\not_santa\\\\00000211.jpg', 'images\\\\not_santa\\\\00000451.jpg', 'images\\\\not_santa\\\\00000090.jpg', 'images\\\\not_santa\\\\00000415.jpg', 'images\\\\not_santa\\\\00000409.jpg', 'images\\\\santa\\\\00000115.jpg', 'images\\\\not_santa\\\\00000442.jpg', 'images\\\\not_santa\\\\00000121.jpg', 'images\\\\not_santa\\\\00000079.jpg', 'images\\\\not_santa\\\\00000383.jpg', 'images\\\\not_santa\\\\00000317.jpg', 'images\\\\santa\\\\00000068.jpg', 'images\\\\not_santa\\\\00000447.jpg', 'images\\\\santa\\\\00000047.jpg', 'images\\\\not_santa\\\\00000286.jpg', 'images\\\\santa\\\\00000150.jpg', 'images\\\\not_santa\\\\00000181.jpg', 'images\\\\santa\\\\00000063.jpg', 'images\\\\santa\\\\00000286.jpg', 'images\\\\santa\\\\00000440.jpg', 'images\\\\not_santa\\\\00000349.jpg', 'images\\\\not_santa\\\\00000107.jpg', 'images\\\\not_santa\\\\00000183.jpg', 'images\\\\santa\\\\00000030.jpg', 'images\\\\not_santa\\\\00000020.jpg', 'images\\\\not_santa\\\\00000440.jpg', 'images\\\\not_santa\\\\00000407.jpg', 'images\\\\santa\\\\00000013.jpg', 'images\\\\not_santa\\\\00000460.jpg', 'images\\\\not_santa\\\\00000186.jpg', 'images\\\\not_santa\\\\00000157.jpg', 'images\\\\santa\\\\00000229.jpg', 'images\\\\santa\\\\00000233.jpg', 'images\\\\santa\\\\00000459.jpg', 'images\\\\santa\\\\00000096.jpg', 'images\\\\not_santa\\\\00000282.jpg', 'images\\\\not_santa\\\\00000298.jpg', 'images\\\\not_santa\\\\00000189.jpg', 'images\\\\not_santa\\\\00000427.jpg', 'images\\\\not_santa\\\\00000018.jpg', 'images\\\\not_santa\\\\00000279.jpg', 'images\\\\not_santa\\\\00000076.jpg', 'images\\\\santa\\\\00000406.jpg', 'images\\\\not_santa\\\\00000353.jpg', 'images\\\\santa\\\\00000053.jpg', 'images\\\\santa\\\\00000019.jpg', 'images\\\\santa\\\\00000170.jpg', 'images\\\\santa\\\\00000403.jpg', 'images\\\\santa\\\\00000099.jpg', 'images\\\\not_santa\\\\00000437.jpg', 'images\\\\not_santa\\\\00000452.jpg', 'images\\\\santa\\\\00000281.jpg', 'images\\\\not_santa\\\\00000268.jpg', 'images\\\\not_santa\\\\00000133.jpg', 'images\\\\not_santa\\\\00000341.jpg', 'images\\\\santa\\\\00000297.jpg', 'images\\\\not_santa\\\\00000045.jpg', 'images\\\\not_santa\\\\00000283.jpg', 'images\\\\santa\\\\00000500.jpg', 'images\\\\santa\\\\00000454.jpg', 'images\\\\not_santa\\\\00000052.jpg', 'images\\\\santa\\\\00000504.jpg', 'images\\\\santa\\\\00000274.jpg', 'images\\\\santa\\\\00000492.jpg', 'images\\\\santa\\\\00000077.jpg', 'images\\\\not_santa\\\\00000208.jpg', 'images\\\\not_santa\\\\00000351.jpg', 'images\\\\not_santa\\\\00000215.jpg', 'images\\\\not_santa\\\\00000288.jpg', 'images\\\\not_santa\\\\00000278.jpg', 'images\\\\santa\\\\00000460.jpg', 'images\\\\not_santa\\\\00000109.jpg', 'images\\\\not_santa\\\\00000118.jpg', 'images\\\\santa\\\\00000447.jpg', 'images\\\\not_santa\\\\00000137.jpg', 'images\\\\not_santa\\\\00000106.jpg', 'images\\\\not_santa\\\\00000306.jpg', 'images\\\\not_santa\\\\00000008.jpg', 'images\\\\santa\\\\00000519.jpg', 'images\\\\not_santa\\\\00000309.jpg', 'images\\\\santa\\\\00000240.jpg', 'images\\\\santa\\\\00000128.jpg', 'images\\\\not_santa\\\\00000291.jpg', 'images\\\\not_santa\\\\00000378.jpg', 'images\\\\santa\\\\00000394.jpg', 'images\\\\santa\\\\00000123.jpg', 'images\\\\not_santa\\\\00000357.jpg', 'images\\\\santa\\\\00000207.jpg', 'images\\\\santa\\\\00000227.jpg', 'images\\\\santa\\\\00000056.jpg', 'images\\\\santa\\\\00000156.jpg', 'images\\\\santa\\\\00000089.jpg', 'images\\\\not_santa\\\\00000075.jpg', 'images\\\\not_santa\\\\00000102.jpg', 'images\\\\santa\\\\00000357.jpg', 'images\\\\not_santa\\\\00000009.jpg', 'images\\\\not_santa\\\\00000074.jpg', 'images\\\\santa\\\\00000112.jpg', 'images\\\\santa\\\\00000004.jpg', 'images\\\\not_santa\\\\00000307.jpg', 'images\\\\not_santa\\\\00000134.jpg', 'images\\\\santa\\\\00000377.jpg', 'images\\\\santa\\\\00000149.jpg', 'images\\\\not_santa\\\\00000244.jpg', 'images\\\\santa\\\\00000137.jpg', 'images\\\\not_santa\\\\00000209.jpg', 'images\\\\not_santa\\\\00000267.jpg', 'images\\\\santa\\\\00000371.jpg', 'images\\\\santa\\\\00000073.jpg', 'images\\\\santa\\\\00000480.jpg', 'images\\\\not_santa\\\\00000083.jpg', 'images\\\\not_santa\\\\00000040.jpg', 'images\\\\santa\\\\00000353.jpg', 'images\\\\not_santa\\\\00000122.jpg', 'images\\\\not_santa\\\\00000413.jpg', 'images\\\\not_santa\\\\00000240.jpg', 'images\\\\santa\\\\00000218.jpg', 'images\\\\santa\\\\00000262.jpg', 'images\\\\not_santa\\\\00000190.jpg', 'images\\\\not_santa\\\\00000082.jpg', 'images\\\\santa\\\\00000058.jpg', 'images\\\\santa\\\\00000133.jpg', 'images\\\\santa\\\\00000300.jpg', 'images\\\\santa\\\\00000278.jpg', 'images\\\\santa\\\\00000052.jpg', 'images\\\\santa\\\\00000024.jpg', 'images\\\\santa\\\\00000285.jpg', 'images\\\\not_santa\\\\00000058.jpg', 'images\\\\not_santa\\\\00000321.jpg', 'images\\\\santa\\\\00000329.jpg', 'images\\\\santa\\\\00000094.jpg', 'images\\\\santa\\\\00000134.jpg', 'images\\\\santa\\\\00000466.jpg', 'images\\\\not_santa\\\\00000222.jpg', 'images\\\\not_santa\\\\00000303.jpg', 'images\\\\santa\\\\00000180.jpg', 'images\\\\not_santa\\\\00000158.jpg', 'images\\\\santa\\\\00000035.jpg', 'images\\\\santa\\\\00000109.jpg', 'images\\\\santa\\\\00000191.jpg', 'images\\\\not_santa\\\\00000292.jpg', 'images\\\\santa\\\\00000000.jpg', 'images\\\\santa\\\\00000253.jpg', 'images\\\\not_santa\\\\00000399.jpg', 'images\\\\not_santa\\\\00000002.jpg', 'images\\\\santa\\\\00000391.jpg', 'images\\\\not_santa\\\\00000168.jpg', 'images\\\\santa\\\\00000361.jpg', 'images\\\\santa\\\\00000370.jpg', 'images\\\\not_santa\\\\00000218.jpg', 'images\\\\santa\\\\00000029.jpg', 'images\\\\santa\\\\00000211.jpg', 'images\\\\santa\\\\00000199.jpg', 'images\\\\not_santa\\\\00000170.jpg', 'images\\\\not_santa\\\\00000242.jpg', 'images\\\\santa\\\\00000496.jpg', 'images\\\\not_santa\\\\00000015.jpg', 'images\\\\santa\\\\00000092.jpg', 'images\\\\not_santa\\\\00000051.jpg', 'images\\\\santa\\\\00000433.jpg', 'images\\\\santa\\\\00000102.jpg', 'images\\\\not_santa\\\\00000453.jpg', 'images\\\\not_santa\\\\00000077.jpg', 'images\\\\not_santa\\\\00000255.jpg', 'images\\\\santa\\\\00000392.jpg', 'images\\\\santa\\\\00000472.jpg', 'images\\\\not_santa\\\\00000187.jpg', 'images\\\\santa\\\\00000325.jpg', 'images\\\\not_santa\\\\00000143.jpg', 'images\\\\santa\\\\00000477.jpg', 'images\\\\santa\\\\00000308.jpg', 'images\\\\santa\\\\00000197.jpg', 'images\\\\santa\\\\00000428.jpg', 'images\\\\not_santa\\\\00000254.jpg', 'images\\\\not_santa\\\\00000111.jpg', 'images\\\\not_santa\\\\00000347.jpg', 'images\\\\not_santa\\\\00000412.jpg', 'images\\\\not_santa\\\\00000062.jpg', 'images\\\\not_santa\\\\00000100.jpg', 'images\\\\not_santa\\\\00000055.jpg', 'images\\\\santa\\\\00000014.jpg', 'images\\\\not_santa\\\\00000420.jpg', 'images\\\\santa\\\\00000249.jpg', 'images\\\\not_santa\\\\00000362.jpg', 'images\\\\not_santa\\\\00000441.jpg', 'images\\\\santa\\\\00000452.jpg', 'images\\\\not_santa\\\\00000096.jpg', 'images\\\\not_santa\\\\00000194.jpg', 'images\\\\not_santa\\\\00000416.jpg', 'images\\\\santa\\\\00000306.jpg', 'images\\\\not_santa\\\\00000248.jpg', 'images\\\\santa\\\\00000020.jpg', 'images\\\\santa\\\\00000131.jpg', 'images\\\\santa\\\\00000125.jpg', 'images\\\\not_santa\\\\00000135.jpg', 'images\\\\santa\\\\00000247.jpg', 'images\\\\not_santa\\\\00000219.jpg', 'images\\\\santa\\\\00000263.jpg', 'images\\\\not_santa\\\\00000285.jpg', 'images\\\\not_santa\\\\00000243.jpg', 'images\\\\santa\\\\00000064.jpg', 'images\\\\santa\\\\00000222.jpg', 'images\\\\not_santa\\\\00000338.jpg', 'images\\\\santa\\\\00000372.jpg', 'images\\\\not_santa\\\\00000069.jpg', 'images\\\\santa\\\\00000374.jpg', 'images\\\\not_santa\\\\00000060.jpg', 'images\\\\santa\\\\00000190.jpg', 'images\\\\not_santa\\\\00000072.jpg', 'images\\\\not_santa\\\\00000007.jpg', 'images\\\\santa\\\\00000479.jpg', 'images\\\\santa\\\\00000228.jpg', 'images\\\\not_santa\\\\00000235.jpg', 'images\\\\santa\\\\00000107.jpg', 'images\\\\santa\\\\00000144.jpg', 'images\\\\not_santa\\\\00000021.jpg', 'images\\\\not_santa\\\\00000346.jpg', 'images\\\\santa\\\\00000346.jpg', 'images\\\\not_santa\\\\00000230.jpg', 'images\\\\not_santa\\\\00000253.jpg', 'images\\\\not_santa\\\\00000123.jpg', 'images\\\\pepe\\\\00000001.jpg', 'images\\\\santa\\\\00000067.jpg', 'images\\\\not_santa\\\\00000448.jpg', 'images\\\\santa\\\\00000282.jpg', 'images\\\\santa\\\\00000483.jpg', 'images\\\\santa\\\\00000239.jpg', 'images\\\\santa\\\\00000342.jpg', 'images\\\\not_santa\\\\00000319.jpg', 'images\\\\not_santa\\\\00000205.jpg', 'images\\\\santa\\\\00000279.jpg', 'images\\\\santa\\\\00000367.jpg', 'images\\\\not_santa\\\\00000433.jpg', 'images\\\\santa\\\\00000163.jpg', 'images\\\\santa\\\\00000079.jpg', 'images\\\\santa\\\\00000355.jpg', 'images\\\\not_santa\\\\00000169.jpg', 'images\\\\santa\\\\00000101.jpg', 'images\\\\santa\\\\00000022.jpg', 'images\\\\santa\\\\00000224.jpg', 'images\\\\not_santa\\\\00000131.jpg', 'images\\\\not_santa\\\\00000128.jpg', 'images\\\\santa\\\\00000084.jpg', 'images\\\\not_santa\\\\00000070.jpg', 'images\\\\santa\\\\00000034.jpg', 'images\\\\not_santa\\\\00000087.jpg', 'images\\\\santa\\\\00000438.jpg', 'images\\\\santa\\\\00000366.jpg', 'images\\\\not_santa\\\\00000246.jpg', 'images\\\\not_santa\\\\00000059.jpg', 'images\\\\not_santa\\\\00000245.jpg', 'images\\\\not_santa\\\\00000314.jpg', 'images\\\\not_santa\\\\00000371.jpg', 'images\\\\santa\\\\00000444.jpg', 'images\\\\not_santa\\\\00000019.jpg', 'images\\\\santa\\\\00000037.jpg', 'images\\\\not_santa\\\\00000331.jpg', 'images\\\\santa\\\\00000155.jpg', 'images\\\\not_santa\\\\00000000.jpg', 'images\\\\santa\\\\00000082.jpg', 'images\\\\santa\\\\00000091.jpg', 'images\\\\not_santa\\\\00000165.jpg', 'images\\\\not_santa\\\\00000382.jpg', 'images\\\\santa\\\\00000330.jpg', 'images\\\\santa\\\\00000487.jpg', 'images\\\\santa\\\\00000450.jpg', 'images\\\\santa\\\\00000295.jpg', 'images\\\\santa\\\\00000526.jpg', 'images\\\\not_santa\\\\00000305.jpg', 'images\\\\santa\\\\00000184.jpg', 'images\\\\not_santa\\\\00000108.jpg', 'images\\\\santa\\\\00000057.jpg', 'images\\\\not_santa\\\\00000182.jpg', 'images\\\\santa\\\\00000050.jpg', 'images\\\\santa\\\\00000347.jpg', 'images\\\\santa\\\\00000291.jpg', 'images\\\\santa\\\\00000294.jpg', 'images\\\\not_santa\\\\00000003.jpg', 'images\\\\santa\\\\00000413.jpg', 'images\\\\not_santa\\\\00000161.jpg', 'images\\\\not_santa\\\\00000445.jpg', 'images\\\\santa\\\\00000435.jpg', 'images\\\\santa\\\\00000524.jpg', 'images\\\\santa\\\\00000462.jpg', 'images\\\\santa\\\\00000204.jpg', 'images\\\\santa\\\\00000404.jpg', 'images\\\\santa\\\\00000441.jpg', 'images\\\\santa\\\\00000250.jpg', 'images\\\\not_santa\\\\00000117.jpg', 'images\\\\santa\\\\00000293.jpg', 'images\\\\santa\\\\00000326.jpg', 'images\\\\not_santa\\\\00000011.jpg', 'images\\\\santa\\\\00000106.jpg', 'images\\\\not_santa\\\\00000257.jpg', 'images\\\\santa\\\\00000080.jpg', 'images\\\\santa\\\\00000015.jpg', 'images\\\\santa\\\\00000324.jpg', 'images\\\\not_santa\\\\00000390.jpg', 'images\\\\not_santa\\\\00000394.jpg', 'images\\\\not_santa\\\\00000065.jpg', 'images\\\\santa\\\\00000152.jpg', 'images\\\\santa\\\\00000465.jpg', 'images\\\\santa\\\\00000248.jpg', 'images\\\\santa\\\\00000468.jpg', 'images\\\\santa\\\\00000186.jpg', 'images\\\\not_santa\\\\00000156.jpg', 'images\\\\not_santa\\\\00000112.jpg', 'images\\\\not_santa\\\\00000048.jpg', 'images\\\\not_santa\\\\00000093.jpg', 'images\\\\santa\\\\00000043.jpg', 'images\\\\santa\\\\00000059.jpg', 'images\\\\not_santa\\\\00000141.jpg', 'images\\\\santa\\\\00000383.jpg', 'images\\\\santa\\\\00000430.jpg', 'images\\\\not_santa\\\\00000408.jpg', 'images\\\\santa\\\\00000138.jpg', 'images\\\\not_santa\\\\00000438.jpg', 'images\\\\santa\\\\00000139.jpg', 'images\\\\santa\\\\00000323.jpg', 'images\\\\not_santa\\\\00000269.jpg', 'images\\\\santa\\\\00000090.jpg', 'images\\\\santa\\\\00000488.jpg', 'images\\\\santa\\\\00000321.jpg', 'images\\\\not_santa\\\\00000252.jpg', 'images\\\\santa\\\\00000513.jpg', 'images\\\\not_santa\\\\00000271.jpg', 'images\\\\not_santa\\\\00000146.jpg', 'images\\\\santa\\\\00000005.jpg', 'images\\\\santa\\\\00000206.jpg', 'images\\\\not_santa\\\\00000405.jpg', 'images\\\\santa\\\\00000049.jpg', 'images\\\\santa\\\\00000220.jpg', 'images\\\\not_santa\\\\00000217.jpg', 'images\\\\not_santa\\\\00000322.jpg', 'images\\\\santa\\\\00000290.jpg', 'images\\\\santa\\\\00000121.jpg', 'images\\\\not_santa\\\\00000216.jpg', 'images\\\\not_santa\\\\00000067.jpg', 'images\\\\not_santa\\\\00000274.jpg', 'images\\\\not_santa\\\\00000410.jpg', 'images\\\\not_santa\\\\00000323.jpg', 'images\\\\santa\\\\00000498.jpg', 'images\\\\not_santa\\\\00000234.jpg', 'images\\\\not_santa\\\\00000057.jpg', 'images\\\\santa\\\\00000359.jpg', 'images\\\\santa\\\\00000351.jpg', 'images\\\\not_santa\\\\00000332.jpg', 'images\\\\santa\\\\00000254.jpg', 'images\\\\not_santa\\\\00000224.jpg', 'images\\\\santa\\\\00000110.jpg', 'images\\\\santa\\\\00000257.jpg', 'images\\\\santa\\\\00000203.jpg', 'images\\\\not_santa\\\\00000276.jpg', 'images\\\\not_santa\\\\00000388.jpg', 'images\\\\santa\\\\00000009.jpg', 'images\\\\not_santa\\\\00000167.jpg', 'images\\\\santa\\\\00000516.jpg', 'images\\\\santa\\\\00000303.jpg', 'images\\\\santa\\\\00000085.jpg', 'images\\\\not_santa\\\\00000175.jpg', 'images\\\\santa\\\\00000412.jpg', 'images\\\\santa\\\\00000165.jpg', 'images\\\\not_santa\\\\00000073.jpg', 'images\\\\santa\\\\00000212.jpg', 'images\\\\santa\\\\00000251.jpg', 'images\\\\santa\\\\00000482.jpg', 'images\\\\not_santa\\\\00000273.jpg', 'images\\\\santa\\\\00000238.jpg', 'images\\\\not_santa\\\\00000214.jpg', 'images\\\\not_santa\\\\00000363.jpg', 'images\\\\not_santa\\\\00000379.jpg', 'images\\\\not_santa\\\\00000166.jpg', 'images\\\\not_santa\\\\00000373.jpg', 'images\\\\santa\\\\00000194.jpg', 'images\\\\pepe\\\\00000003.jpg', 'images\\\\santa\\\\00000461.jpg', 'images\\\\santa\\\\00000453.jpg', 'images\\\\not_santa\\\\00000103.jpg', 'images\\\\santa\\\\00000493.jpg', 'images\\\\not_santa\\\\00000081.jpg', 'images\\\\not_santa\\\\00000296.jpg', 'images\\\\santa\\\\00000356.jpg', 'images\\\\not_santa\\\\00000233.jpg', 'images\\\\santa\\\\00000226.jpg', 'images\\\\not_santa\\\\00000046.jpg', 'images\\\\not_santa\\\\00000071.jpg', 'images\\\\santa\\\\00000275.jpg', 'images\\\\not_santa\\\\00000196.jpg', 'images\\\\santa\\\\00000132.jpg', 'images\\\\not_santa\\\\00000370.jpg', 'images\\\\santa\\\\00000177.jpg', 'images\\\\santa\\\\00000187.jpg', 'images\\\\santa\\\\00000425.jpg', 'images\\\\not_santa\\\\00000300.jpg', 'images\\\\santa\\\\00000105.jpg', 'images\\\\not_santa\\\\00000080.jpg', 'images\\\\not_santa\\\\00000387.jpg', 'images\\\\not_santa\\\\00000127.jpg', 'images\\\\santa\\\\00000088.jpg', 'images\\\\santa\\\\00000006.jpg', 'images\\\\santa\\\\00000304.jpg', 'images\\\\not_santa\\\\00000044.jpg', 'images\\\\santa\\\\00000399.jpg', 'images\\\\not_santa\\\\00000270.jpg', 'images\\\\santa\\\\00000160.jpg', 'images\\\\not_santa\\\\00000352.jpg', 'images\\\\santa\\\\00000446.jpg', 'images\\\\not_santa\\\\00000367.jpg', 'images\\\\not_santa\\\\00000099.jpg', 'images\\\\not_santa\\\\00000389.jpg', 'images\\\\not_santa\\\\00000094.jpg', 'images\\\\santa\\\\00000511.jpg', 'images\\\\not_santa\\\\00000344.jpg', 'images\\\\santa\\\\00000344.jpg', 'images\\\\not_santa\\\\00000220.jpg', 'images\\\\not_santa\\\\00000159.jpg', 'images\\\\santa\\\\00000474.jpg', 'images\\\\not_santa\\\\00000348.jpg', 'images\\\\santa\\\\00000499.jpg', 'images\\\\santa\\\\00000268.jpg', 'images\\\\not_santa\\\\00000163.jpg', 'images\\\\santa\\\\00000398.jpg', 'images\\\\santa\\\\00000340.jpg', 'images\\\\not_santa\\\\00000006.jpg', 'images\\\\santa\\\\00000401.jpg', 'images\\\\not_santa\\\\00000284.jpg', 'images\\\\santa\\\\00000145.jpg', 'images\\\\not_santa\\\\00000459.jpg', 'images\\\\not_santa\\\\00000225.jpg', 'images\\\\not_santa\\\\00000429.jpg', 'images\\\\santa\\\\00000502.jpg', 'images\\\\santa\\\\00000272.jpg', 'images\\\\santa\\\\00000214.jpg', 'images\\\\santa\\\\00000288.jpg', 'images\\\\not_santa\\\\00000203.jpg', 'images\\\\santa\\\\00000114.jpg', 'images\\\\not_santa\\\\00000027.jpg', 'images\\\\santa\\\\00000158.jpg', 'images\\\\santa\\\\00000055.jpg', 'images\\\\not_santa\\\\00000238.jpg', 'images\\\\not_santa\\\\00000223.jpg', 'images\\\\not_santa\\\\00000095.jpg', 'images\\\\not_santa\\\\00000030.jpg', 'images\\\\not_santa\\\\00000032.jpg', 'images\\\\not_santa\\\\00000432.jpg', 'images\\\\santa\\\\00000146.jpg', 'images\\\\not_santa\\\\00000089.jpg', 'images\\\\santa\\\\00000097.jpg', 'images\\\\santa\\\\00000503.jpg', 'images\\\\santa\\\\00000317.jpg', 'images\\\\santa\\\\00000244.jpg', 'images\\\\not_santa\\\\00000104.jpg', 'images\\\\santa\\\\00000311.jpg', 'images\\\\not_santa\\\\00000142.jpg', 'images\\\\not_santa\\\\00000228.jpg', 'images\\\\not_santa\\\\00000250.jpg', 'images\\\\not_santa\\\\00000281.jpg', 'images\\\\santa\\\\00000318.jpg', 'images\\\\not_santa\\\\00000025.jpg', 'images\\\\not_santa\\\\00000114.jpg', 'images\\\\santa\\\\00000201.jpg']\n"
     ]
    }
   ],
   "source": [
    "imagePaths = sorted(list(paths.list_images(dataset)))\n",
    "random.seed(42)\n",
    "random.shuffle(imagePaths)\n",
    "print(imagePaths)"
   ]
  },
  {
   "cell_type": "code",
   "execution_count": 8,
   "metadata": {},
   "outputs": [],
   "source": [
    "for imagePath in imagePaths:\n",
    "    # load the image, pre-process it, and store it in the data list\n",
    "    image = cv2.imread(imagePath)\n",
    "    image = cv2.resize(image, (28, 28))\n",
    "    image = img_to_array(image)\n",
    "    data.append(image)\n",
    "    label = imagePath.split(os.path.sep)[-2]\n",
    "\n",
    "    for i in range(len(labels_name)):\n",
    "        if label == labels_name[i] :\n",
    "            label = i\n",
    "            \n",
    "    labels.append(label)"
   ]
  },
  {
   "cell_type": "code",
   "execution_count": 9,
   "metadata": {},
   "outputs": [],
   "source": [
    "# scale the raw pixel intensities to the range [0, 1]\n",
    "data = np.array(data, dtype=\"float\") / 255.0\n",
    "labels = np.array(labels)"
   ]
  },
  {
   "cell_type": "code",
   "execution_count": 10,
   "metadata": {},
   "outputs": [],
   "source": [
    "# partition the data into training and testing splits using 75% of\n",
    "# the data for training and the remaining 25% for testing\n",
    "(trainX, testX, trainY, testY) = train_test_split(data,labels, test_size=0.25, random_state=42)"
   ]
  },
  {
   "cell_type": "code",
   "execution_count": 11,
   "metadata": {},
   "outputs": [],
   "source": [
    "# convert the labels from integers to vectors\n",
    "trainY = to_categorical(trainY, num_classes=3)\n",
    "testY = to_categorical(testY, num_classes=3)"
   ]
  },
  {
   "cell_type": "code",
   "execution_count": 12,
   "metadata": {},
   "outputs": [],
   "source": [
    "# construct the image generator for data augmentation\n",
    "aug = ImageDataGenerator(rotation_range=30, width_shift_range=0.1,\n",
    "\theight_shift_range=0.1, shear_range=0.2, zoom_range=0.2,\n",
    "\thorizontal_flip=True, fill_mode=\"nearest\")"
   ]
  },
  {
   "cell_type": "markdown",
   "metadata": {},
   "source": [
    "Start Building the Model Right Now:"
   ]
  },
  {
   "cell_type": "code",
   "execution_count": 13,
   "metadata": {},
   "outputs": [],
   "source": [
    "from keras import models\n",
    "from keras.layers.convolutional import Conv2D\n",
    "from keras.layers.convolutional import MaxPooling2D\n",
    "from keras.layers.core import Activation\n",
    "from keras.layers.core import Flatten\n",
    "from keras.layers.core import Dense\n",
    "from keras.layers.core import Dropout"
   ]
  },
  {
   "cell_type": "code",
   "execution_count": 14,
   "metadata": {},
   "outputs": [],
   "source": [
    "model = models.Sequential()"
   ]
  },
  {
   "cell_type": "code",
   "execution_count": 15,
   "metadata": {},
   "outputs": [],
   "source": [
    "height = 28\n",
    "width = 28\n",
    "depth = 3\n",
    "classes = len(labels_name)\n",
    "inputShape = (height, width, depth)"
   ]
  },
  {
   "cell_type": "markdown",
   "metadata": {},
   "source": [
    "First set of CONV => RELU => POOL layers"
   ]
  },
  {
   "cell_type": "code",
   "execution_count": 16,
   "metadata": {},
   "outputs": [],
   "source": [
    "model.add(Conv2D(20, (5, 5), padding=\"same\",input_shape=inputShape))\n",
    "model.add(Activation(\"relu\"))\n",
    "model.add(MaxPooling2D(pool_size=(2, 2), strides=(2, 2)))"
   ]
  },
  {
   "cell_type": "markdown",
   "metadata": {},
   "source": [
    "Second set of CONV => RELU => POOL layers"
   ]
  },
  {
   "cell_type": "code",
   "execution_count": 17,
   "metadata": {},
   "outputs": [],
   "source": [
    "model.add(Conv2D(50, (5, 5), padding=\"same\"))\n",
    "model.add(Activation(\"relu\"))\n",
    "model.add(MaxPooling2D(pool_size=(2, 2), strides=(2, 2)))"
   ]
  },
  {
   "cell_type": "markdown",
   "metadata": {},
   "source": [
    "First (and only) set of FC => RELU layers"
   ]
  },
  {
   "cell_type": "code",
   "execution_count": 18,
   "metadata": {},
   "outputs": [],
   "source": [
    "model.add(Flatten())\n",
    "model.add(Dropout(0.5))\n",
    "model.add(Dense(500))\n",
    "model.add(Activation(\"relu\"))"
   ]
  },
  {
   "cell_type": "markdown",
   "metadata": {},
   "source": [
    "Softmax classifier"
   ]
  },
  {
   "cell_type": "code",
   "execution_count": 19,
   "metadata": {},
   "outputs": [],
   "source": [
    "model.add(Dense(classes))\n",
    "model.add(Activation(\"softmax\"))"
   ]
  },
  {
   "cell_type": "code",
   "execution_count": 20,
   "metadata": {},
   "outputs": [
    {
     "data": {
      "text/html": [
       "<img src=\"https://live.staticflickr.com/65535/48238891246_092637c136_z.jpg\"/>"
      ],
      "text/plain": [
       "<IPython.core.display.Image object>"
      ]
     },
     "execution_count": 20,
     "metadata": {},
     "output_type": "execute_result"
    }
   ],
   "source": [
    "Image(url=\"https://live.staticflickr.com/65535/48238891246_092637c136_z.jpg\")"
   ]
  },
  {
   "cell_type": "code",
   "execution_count": 21,
   "metadata": {},
   "outputs": [],
   "source": [
    "opt = Adam(lr=INIT_LR, decay=INIT_LR / EPOCHS)"
   ]
  },
  {
   "cell_type": "code",
   "execution_count": 22,
   "metadata": {},
   "outputs": [],
   "source": [
    "#model.compile(loss=\"categorical_crossentropy\", optimizer=opt,metrics=[\"accuracy\"])\n",
    "model.compile(loss=\"binary_crossentropy\", optimizer=opt,metrics=[\"accuracy\"])"
   ]
  },
  {
   "cell_type": "code",
   "execution_count": 23,
   "metadata": {},
   "outputs": [
    {
     "name": "stdout",
     "output_type": "stream",
     "text": [
      "Epoch 1/50\n",
      "21/21 [==============================] - 2s 79ms/step - loss: 0.4675 - acc: 0.7188 - val_loss: 0.3565 - val_acc: 0.8290\n",
      "Epoch 2/50\n",
      "21/21 [==============================] - 1s 53ms/step - loss: 0.3509 - acc: 0.8423 - val_loss: 0.3427 - val_acc: 0.8578\n",
      "Epoch 3/50\n",
      "21/21 [==============================] - 1s 58ms/step - loss: 0.2444 - acc: 0.9090 - val_loss: 0.1953 - val_acc: 0.9282\n",
      "Epoch 4/50\n",
      "21/21 [==============================] - 1s 52ms/step - loss: 0.2055 - acc: 0.9278 - val_loss: 0.2647 - val_acc: 0.9167\n",
      "Epoch 5/50\n",
      "21/21 [==============================] - 1s 53ms/step - loss: 0.1886 - acc: 0.9288 - val_loss: 0.2457 - val_acc: 0.9195\n",
      "Epoch 6/50\n",
      "21/21 [==============================] - 1s 51ms/step - loss: 0.1547 - acc: 0.9425 - val_loss: 0.2303 - val_acc: 0.9152\n",
      "Epoch 7/50\n",
      "21/21 [==============================] - 1s 54ms/step - loss: 0.1450 - acc: 0.9459 - val_loss: 0.2135 - val_acc: 0.9339\n",
      "Epoch 8/50\n",
      "21/21 [==============================] - 1s 54ms/step - loss: 0.1231 - acc: 0.9559 - val_loss: 0.1493 - val_acc: 0.9468\n",
      "Epoch 9/50\n",
      "21/21 [==============================] - 1s 54ms/step - loss: 0.1352 - acc: 0.9495 - val_loss: 0.2114 - val_acc: 0.9195\n",
      "Epoch 10/50\n",
      "21/21 [==============================] - 1s 52ms/step - loss: 0.1549 - acc: 0.9305 - val_loss: 0.2037 - val_acc: 0.9224\n",
      "Epoch 11/50\n",
      "21/21 [==============================] - 1s 54ms/step - loss: 0.1230 - acc: 0.9589 - val_loss: 0.2651 - val_acc: 0.9080\n",
      "Epoch 12/50\n",
      "21/21 [==============================] - 1s 51ms/step - loss: 0.0967 - acc: 0.9593 - val_loss: 0.1746 - val_acc: 0.9368\n",
      "Epoch 13/50\n",
      "21/21 [==============================] - 1s 54ms/step - loss: 0.1112 - acc: 0.9550 - val_loss: 0.1316 - val_acc: 0.9511\n",
      "Epoch 14/50\n",
      "21/21 [==============================] - 1s 52ms/step - loss: 0.0988 - acc: 0.9609 - val_loss: 0.1509 - val_acc: 0.9411\n",
      "Epoch 15/50\n",
      "21/21 [==============================] - 1s 53ms/step - loss: 0.1007 - acc: 0.9581 - val_loss: 0.1276 - val_acc: 0.9555\n",
      "Epoch 16/50\n",
      "21/21 [==============================] - 1s 53ms/step - loss: 0.0913 - acc: 0.9673 - val_loss: 0.1926 - val_acc: 0.9239\n",
      "Epoch 17/50\n",
      "21/21 [==============================] - 1s 54ms/step - loss: 0.1029 - acc: 0.9580 - val_loss: 0.1773 - val_acc: 0.9425\n",
      "Epoch 18/50\n",
      "21/21 [==============================] - 1s 54ms/step - loss: 0.0981 - acc: 0.9620 - val_loss: 0.1664 - val_acc: 0.9339\n",
      "Epoch 19/50\n",
      "21/21 [==============================] - 1s 53ms/step - loss: 0.0870 - acc: 0.9654 - val_loss: 0.2889 - val_acc: 0.9181\n",
      "Epoch 20/50\n",
      "21/21 [==============================] - 1s 53ms/step - loss: 0.1099 - acc: 0.9583 - val_loss: 0.1680 - val_acc: 0.9310\n",
      "Epoch 21/50\n",
      "21/21 [==============================] - 1s 52ms/step - loss: 0.0897 - acc: 0.9667 - val_loss: 0.1498 - val_acc: 0.9411\n",
      "Epoch 22/50\n",
      "21/21 [==============================] - 1s 50ms/step - loss: 0.0777 - acc: 0.9682 - val_loss: 0.1608 - val_acc: 0.9368\n",
      "Epoch 23/50\n",
      "21/21 [==============================] - 1s 51ms/step - loss: 0.0835 - acc: 0.9628 - val_loss: 0.2434 - val_acc: 0.9195\n",
      "Epoch 24/50\n",
      "21/21 [==============================] - 1s 54ms/step - loss: 0.1076 - acc: 0.9580 - val_loss: 0.2112 - val_acc: 0.9210\n",
      "Epoch 25/50\n",
      "21/21 [==============================] - 1s 52ms/step - loss: 0.0817 - acc: 0.9694 - val_loss: 0.1693 - val_acc: 0.9511\n",
      "Epoch 26/50\n",
      "21/21 [==============================] - 1s 53ms/step - loss: 0.0639 - acc: 0.9757 - val_loss: 0.2092 - val_acc: 0.9267\n",
      "Epoch 27/50\n",
      "21/21 [==============================] - 1s 52ms/step - loss: 0.1145 - acc: 0.9540 - val_loss: 0.3198 - val_acc: 0.8922\n",
      "Epoch 28/50\n",
      "21/21 [==============================] - 1s 54ms/step - loss: 0.1080 - acc: 0.9596 - val_loss: 0.1530 - val_acc: 0.9497\n",
      "Epoch 29/50\n",
      "21/21 [==============================] - 1s 51ms/step - loss: 0.0731 - acc: 0.9730 - val_loss: 0.2933 - val_acc: 0.8865\n",
      "Epoch 30/50\n",
      "21/21 [==============================] - 1s 55ms/step - loss: 0.0865 - acc: 0.9697 - val_loss: 0.1514 - val_acc: 0.9540\n",
      "Epoch 31/50\n",
      "21/21 [==============================] - 1s 53ms/step - loss: 0.0868 - acc: 0.9651 - val_loss: 0.1346 - val_acc: 0.9583\n",
      "Epoch 32/50\n",
      "21/21 [==============================] - 1s 61ms/step - loss: 0.0654 - acc: 0.9772 - val_loss: 0.2386 - val_acc: 0.9267\n",
      "Epoch 33/50\n",
      "21/21 [==============================] - 1s 53ms/step - loss: 0.0687 - acc: 0.9747 - val_loss: 0.1153 - val_acc: 0.9569\n",
      "Epoch 34/50\n",
      "21/21 [==============================] - 1s 54ms/step - loss: 0.0726 - acc: 0.9801 - val_loss: 0.1659 - val_acc: 0.9526\n",
      "Epoch 35/50\n",
      "21/21 [==============================] - 1s 53ms/step - loss: 0.0626 - acc: 0.9782 - val_loss: 0.1818 - val_acc: 0.9540\n",
      "Epoch 36/50\n",
      "21/21 [==============================] - 1s 54ms/step - loss: 0.0474 - acc: 0.9846 - val_loss: 0.2522 - val_acc: 0.9310\n",
      "Epoch 37/50\n",
      "21/21 [==============================] - 1s 53ms/step - loss: 0.0616 - acc: 0.9748 - val_loss: 0.2431 - val_acc: 0.9382\n",
      "Epoch 38/50\n",
      "21/21 [==============================] - 1s 54ms/step - loss: 0.0628 - acc: 0.9782 - val_loss: 0.1713 - val_acc: 0.9598\n",
      "Epoch 39/50\n",
      "21/21 [==============================] - 1s 53ms/step - loss: 0.0774 - acc: 0.9702 - val_loss: 0.1928 - val_acc: 0.9511\n",
      "Epoch 40/50\n",
      "21/21 [==============================] - 1s 54ms/step - loss: 0.0510 - acc: 0.9821 - val_loss: 0.1532 - val_acc: 0.9612\n",
      "Epoch 41/50\n",
      "21/21 [==============================] - 1s 53ms/step - loss: 0.0699 - acc: 0.9708 - val_loss: 0.2040 - val_acc: 0.9411\n",
      "Epoch 42/50\n",
      "21/21 [==============================] - 1s 52ms/step - loss: 0.0589 - acc: 0.9737 - val_loss: 0.2964 - val_acc: 0.9224\n",
      "Epoch 43/50\n",
      "21/21 [==============================] - 1s 53ms/step - loss: 0.0750 - acc: 0.9722 - val_loss: 0.1605 - val_acc: 0.9583\n",
      "Epoch 44/50\n",
      "21/21 [==============================] - 1s 51ms/step - loss: 0.0667 - acc: 0.9738 - val_loss: 0.2254 - val_acc: 0.9497\n",
      "Epoch 45/50\n",
      "21/21 [==============================] - 1s 52ms/step - loss: 0.0471 - acc: 0.9827 - val_loss: 0.1983 - val_acc: 0.9425\n",
      "Epoch 46/50\n",
      "21/21 [==============================] - 1s 56ms/step - loss: 0.0603 - acc: 0.9772 - val_loss: 0.1451 - val_acc: 0.9612\n",
      "Epoch 47/50\n",
      "21/21 [==============================] - 1s 53ms/step - loss: 0.0554 - acc: 0.9803 - val_loss: 0.2089 - val_acc: 0.9454\n",
      "Epoch 48/50\n",
      "21/21 [==============================] - 1s 53ms/step - loss: 0.0644 - acc: 0.9732 - val_loss: 0.1693 - val_acc: 0.9583\n",
      "Epoch 49/50\n",
      "21/21 [==============================] - 1s 53ms/step - loss: 0.0668 - acc: 0.9728 - val_loss: 0.2819 - val_acc: 0.9037\n",
      "Epoch 50/50\n",
      "21/21 [==============================] - 1s 52ms/step - loss: 0.0821 - acc: 0.9678 - val_loss: 0.2043 - val_acc: 0.9397\n"
     ]
    }
   ],
   "source": [
    "H = model.fit_generator(aug.flow(trainX, trainY, batch_size=BS),\n",
    "\tvalidation_data=(testX, testY), steps_per_epoch=len(trainX) // BS,\n",
    "\tepochs=EPOCHS, verbose=1)"
   ]
  },
  {
   "cell_type": "code",
   "execution_count": 24,
   "metadata": {},
   "outputs": [],
   "source": [
    "model.save(str(modelname) + \".h5\")"
   ]
  },
  {
   "cell_type": "code",
   "execution_count": 25,
   "metadata": {},
   "outputs": [],
   "source": [
    "# plot the training loss and accuracy\n",
    "plt.style.use(\"ggplot\")\n",
    "plt.figure()\n",
    "N = EPOCHS\n",
    "plt.plot(np.arange(0, N), H.history[\"loss\"], label=\"train_loss\")\n",
    "plt.plot(np.arange(0, N), H.history[\"val_loss\"], label=\"val_loss\")\n",
    "plt.plot(np.arange(0, N), H.history[\"acc\"], label=\"train_acc\")\n",
    "plt.plot(np.arange(0, N), H.history[\"val_acc\"], label=\"val_acc\")\n",
    "plt.title(\"Training Loss and Accuracy on Handsomeness\")\n",
    "plt.xlabel(\"Epoch #\")\n",
    "plt.ylabel(\"Loss/Accuracy\")\n",
    "plt.legend(loc=\"lower left\")\n",
    "plt.savefig(plot)"
   ]
  },
  {
   "cell_type": "markdown",
   "metadata": {},
   "source": [
    "Result of the accuracy using categorical_crossentropy (loss)"
   ]
  },
  {
   "cell_type": "code",
   "execution_count": 26,
   "metadata": {},
   "outputs": [
    {
     "data": {
      "text/html": [
       "<img src=\"https://live.staticflickr.com/65535/48239450162_104d4895e7_z.jpg\"/>"
      ],
      "text/plain": [
       "<IPython.core.display.Image object>"
      ]
     },
     "execution_count": 26,
     "metadata": {},
     "output_type": "execute_result"
    }
   ],
   "source": [
    "Image(url=\"https://live.staticflickr.com/65535/48239450162_104d4895e7_z.jpg\")"
   ]
  },
  {
   "cell_type": "markdown",
   "metadata": {},
   "source": [
    "Result of the accuracy using binary_crossentropy (loss)"
   ]
  },
  {
   "cell_type": "code",
   "execution_count": 27,
   "metadata": {},
   "outputs": [
    {
     "data": {
      "text/html": [
       "<img src=\"https://live.staticflickr.com/65535/48239450192_4d10ef4f12_z.jpg\"/>"
      ],
      "text/plain": [
       "<IPython.core.display.Image object>"
      ]
     },
     "execution_count": 27,
     "metadata": {},
     "output_type": "execute_result"
    }
   ],
   "source": [
    "Image(url=\"https://live.staticflickr.com/65535/48239450192_4d10ef4f12_z.jpg\")"
   ]
  },
  {
   "cell_type": "code",
   "execution_count": null,
   "metadata": {},
   "outputs": [],
   "source": []
  }
 ],
 "metadata": {
  "kernelspec": {
   "display_name": "Python 3",
   "language": "python",
   "name": "python3"
  },
  "language_info": {
   "codemirror_mode": {
    "name": "ipython",
    "version": 3
   },
   "file_extension": ".py",
   "mimetype": "text/x-python",
   "name": "python",
   "nbconvert_exporter": "python",
   "pygments_lexer": "ipython3",
   "version": "3.6.8"
  }
 },
 "nbformat": 4,
 "nbformat_minor": 2
}
